{
 "cells": [
  {
   "cell_type": "markdown",
   "metadata": {},
   "source": [
    "## Imports all in one place"
   ]
  },
  {
   "cell_type": "code",
   "execution_count": 63,
   "metadata": {},
   "outputs": [],
   "source": [
    "import csv\n",
    "import nltk\n",
    "import warnings\n",
    "import numpy as np\n",
    "from numpy.random import seed\n",
    "from gensim.models import Word2Vec\n",
    "from keras.models import Sequential\n",
    "from keras.models import model_from_json\n",
    "from keras.preprocessing import sequence\n",
    "from keras.layers import Dense, Conv2D, Flatten\n",
    "from keras.preprocessing.sequence import pad_sequences\n",
    "from keras.layers import Dense, Dropout, Embedding, LSTM, Bidirectional"
   ]
  },
  {
   "cell_type": "markdown",
   "metadata": {},
   "source": [
    "### Ignoring warnings"
   ]
  },
  {
   "cell_type": "code",
   "execution_count": 64,
   "metadata": {},
   "outputs": [],
   "source": [
    "warnings.filterwarnings('ignore')"
   ]
  },
  {
   "cell_type": "markdown",
   "metadata": {},
   "source": [
    "### FUNCTION: Load LSTM Model"
   ]
  },
  {
   "cell_type": "code",
   "execution_count": 65,
   "metadata": {},
   "outputs": [],
   "source": [
    "def get_lstm_model():\n",
    "    json_file = open('./models/lstm/lstm.json', 'r')\n",
    "    loaded_model_json = json_file.read()\n",
    "    json_file.close()\n",
    "    model = model_from_json(loaded_model_json)\n",
    "    model.load_weights('./models/lstm/lstm.h5') \n",
    "    model.compile(optimizer = 'adam', loss = 'binary_crossentropy')\n",
    "    return model"
   ]
  },
  {
   "cell_type": "markdown",
   "metadata": {},
   "source": [
    "### FUNCTION: Load CNN Model"
   ]
  },
  {
   "cell_type": "code",
   "execution_count": 66,
   "metadata": {},
   "outputs": [],
   "source": [
    "def get_cnn_model():\n",
    "    json_file = open('./models/cnn/cnn.json', 'r')\n",
    "    loaded_model_json = json_file.read()\n",
    "    json_file.close()\n",
    "    model = model_from_json(loaded_model_json)\n",
    "    model.load_weights('./models/cnn/cnn.h5') \n",
    "    model.compile(optimizer = 'adam', loss = 'binary_crossentropy')\n",
    "    return model"
   ]
  },
  {
   "cell_type": "markdown",
   "metadata": {},
   "source": [
    "### FUNCTION: Load Word2Vec Model"
   ]
  },
  {
   "cell_type": "code",
   "execution_count": 67,
   "metadata": {},
   "outputs": [],
   "source": [
    "def get_word2vec_model():\n",
    "    return Word2Vec.load('./models/word2vec/word2vec.model')"
   ]
  },
  {
   "cell_type": "markdown",
   "metadata": {},
   "source": [
    "### FUNCTION: Train Word2Vec Model"
   ]
  },
  {
   "cell_type": "code",
   "execution_count": 68,
   "metadata": {},
   "outputs": [],
   "source": [
    "def train_word2vec_model(path):\n",
    "    wordVecDataset = []\n",
    "    training_file = open(path, encoding = 'utf-8', errors = 'ignore')\n",
    "    csv_reader = csv.reader(training_file, delimiter = ',')\n",
    "    for row in csv_reader:\n",
    "        tokens = nltk.word_tokenize(row[1])\n",
    "        wordVecDataset.append(tokens)\n",
    "    model = Word2Vec(wordVecDataset, min_count = 1, size = 50, workers = 3, window = 3, sg = 1)\n",
    "    model.save('./models/word2vec/word2vec.model')\n",
    "    return model"
   ]
  },
  {
   "cell_type": "markdown",
   "metadata": {},
   "source": [
    "### FUNCTION: Train Bi-LSTM Model"
   ]
  },
  {
   "cell_type": "code",
   "execution_count": 70,
   "metadata": {},
   "outputs": [],
   "source": [
    "def train_lstm_model(x_train, y_train, x_test, y_test, epochs):\n",
    "    model = Sequential()\n",
    "    model.add(Bidirectional(LSTM(128, input_shape = (128, 1))))\n",
    "    model.add(Dense(2, activation = 'softmax'))\n",
    "    model.compile(optimizer = 'adam', loss = 'binary_crossentropy')\n",
    "    model.fit(x_train, y_train, validation_data = (x_test, y_test), batch_size = 200, epochs = epochs, shuffle = True)\n",
    "    model_json = model.to_json()\n",
    "    with open('./models/lstm/lstm.json', 'w') as json_file:\n",
    "        json_file.write(model_json)\n",
    "    model.save_weights('./models/lstm/lstm.h5')\n",
    "    return model"
   ]
  },
  {
   "cell_type": "markdown",
   "metadata": {},
   "source": [
    "### FUNCTION: Dataset for Bi-LSTM Model"
   ]
  },
  {
   "cell_type": "code",
   "execution_count": 71,
   "metadata": {},
   "outputs": [],
   "source": [
    "def get_lstm_data(path):\n",
    "    wordvecModel = get_word2vec_model()\n",
    "    dataset = []\n",
    "    X, Y = [], []\n",
    "    file = open(path, encoding = 'utf-8', errors = 'ignore')\n",
    "    csv_reader = csv.reader(file, delimiter = ',')\n",
    "    for row in csv_reader:\n",
    "        tokens = nltk.word_tokenize(row[1])\n",
    "        dataset.append([tokens, row[2]])\n",
    "    for tweet in dataset:\n",
    "        tweet_tokens = tweet[0]\n",
    "        embeddings = []\n",
    "        for token in tweet_tokens:\n",
    "            embeddings.append([round(abs(sum(wordvecModel[token])) * 10, 4)])\n",
    "        padding = [[0]] * (128 - len(embeddings))\n",
    "        embeddings = embeddings.copy() + padding\n",
    "        X.append(embeddings)\n",
    "        label = int(tweet[1])\n",
    "        if label == 0:\n",
    "            Y.append([0, 1])\n",
    "        else:\n",
    "            Y.append([1, 0])\n",
    "    X = np.array(X)\n",
    "    Y = np.array(Y)\n",
    "    return X, Y"
   ]
  },
  {
   "cell_type": "markdown",
   "metadata": {},
   "source": [
    "### FUNCTION: Train CNN Model"
   ]
  },
  {
   "cell_type": "code",
   "execution_count": 72,
   "metadata": {},
   "outputs": [],
   "source": [
    "def train_cnn_model(x_train, y_train, x_test, y_test, epochs):\n",
    "    cnnModel = Sequential()\n",
    "    cnnModel.add(Conv2D(128, kernel_size = 1, activation = 'relu', input_shape = (1,1,128)))\n",
    "    cnnModel.add(Flatten())\n",
    "    cnnModel.add(Dense(2, activation = 'softmax'))\n",
    "    cnnModel.compile(optimizer = 'adam', loss = 'binary_crossentropy', metrics = ['accuracy'])\n",
    "    cnnModel.fit(x_train, y_train, validation_data = (x_test, y_test), batch_size = 200, epochs = epochs, shuffle = True)\n",
    "    model_json = cnnModel.to_json()\n",
    "    with open('./models/cnn/cnn.json', 'w') as json_file:\n",
    "        json_file.write(model_json)\n",
    "    cnnModel.save_weights('./models/cnn/cnn.h5')\n",
    "    return cnnModel"
   ]
  },
  {
   "cell_type": "markdown",
   "metadata": {},
   "source": [
    "### FUNCTION: Dataset for CNN Model"
   ]
  },
  {
   "cell_type": "code",
   "execution_count": 73,
   "metadata": {},
   "outputs": [],
   "source": [
    "def get_cnn_data(path):\n",
    "    wordvecModel = get_word2vec_model()\n",
    "    dataset = []\n",
    "    X, Y = [], []\n",
    "    file = open(path, encoding = 'utf-8', errors = 'ignore')\n",
    "    csv_reader = csv.reader(file, delimiter = ',')\n",
    "    for row in csv_reader:\n",
    "        tokens = nltk.word_tokenize(row[1])\n",
    "        dataset.append([tokens, row[2]])\n",
    "    for tweet in dataset:\n",
    "        tweet_tokens = tweet[0]\n",
    "        embeddings = []\n",
    "        for token in tweet_tokens:\n",
    "            embeddings.append(round(abs(sum(wordvecModel[token])) * 10, 4))\n",
    "        padding = [0] * (128 - len(embeddings))\n",
    "        embeddings = embeddings.copy() + padding\n",
    "        X.append([[embeddings]])\n",
    "        label = int(tweet[1])\n",
    "        if label == 0:\n",
    "            Y.append([0, 1])\n",
    "        else:\n",
    "            Y.append([1, 0])\n",
    "    X = np.array(X)\n",
    "    Y = np.array(Y)\n",
    "    return X, Y"
   ]
  },
  {
   "cell_type": "markdown",
   "metadata": {},
   "source": [
    "### FUNCTION: Test model"
   ]
  },
  {
   "cell_type": "code",
   "execution_count": 79,
   "metadata": {},
   "outputs": [],
   "source": [
    "def test_model(model, x_test, y_test):\n",
    "    pred_output = model.predict(x_test)\n",
    "    matrix = [[0, 0], [0, 0]]\n",
    "    actual_yes, actual_no, predicted_yes = 0, 0, 0\n",
    "    for i in range(len(y_test)):\n",
    "        if y_test[i][0] == 1:\n",
    "            actual_yes += 1\n",
    "        elif y_test[i][0] == 0:\n",
    "            actual_no += 1\n",
    "        if pred_output[i][0] > 0.5:\n",
    "            predicted_yes += 1\n",
    "        x, y = 0, 0\n",
    "        if y_test[i][0] > 0.5:\n",
    "            x = 1\n",
    "        else:\n",
    "            x = 0\n",
    "        if pred_output[i][0] > 0.5:\n",
    "            y = 1\n",
    "        else:\n",
    "            y = 0\n",
    "        matrix[x][y] += 1\n",
    "    TP = matrix[1][1]\n",
    "    TN = matrix[0][0]\n",
    "    FP = matrix[0][1]\n",
    "    FN = matrix[1][0]\n",
    "    total = len(y_test)\n",
    "    accuracy = (TP + TN) / total\n",
    "    misclassfication = (FP + FN) / total\n",
    "    recall = TP / actual_yes\n",
    "    specificity = TN / actual_no\n",
    "    precision = TP / predicted_yes\n",
    "    f_score = 2 * ((recall * precision) / (recall + precision))\n",
    "    print(\"Confusion Matrix:\", matrix)\n",
    "    print(\"Accuracy: \", accuracy)\n",
    "    print(\"Misclassfication Rate: \", misclassfication)\n",
    "    print(\"True Positive Rate (Recall): \", recall)\n",
    "    print(\"True Negative Rate (Specificity): \", specificity)\n",
    "    print(\"Precision: \", precision)\n",
    "    print(\"F Score: \", f_score)"
   ]
  },
  {
   "cell_type": "markdown",
   "metadata": {},
   "source": [
    "### Train Word2Vec Model"
   ]
  },
  {
   "cell_type": "code",
   "execution_count": 75,
   "metadata": {},
   "outputs": [
    {
     "data": {
      "text/plain": [
       "<gensim.models.word2vec.Word2Vec at 0x1fcdffbb7b8>"
      ]
     },
     "execution_count": 75,
     "metadata": {},
     "output_type": "execute_result"
    }
   ],
   "source": [
    "train_word2vec_model('./corpora/sample.csv')"
   ]
  },
  {
   "cell_type": "markdown",
   "metadata": {},
   "source": [
    "### Training CNN Model"
   ]
  },
  {
   "cell_type": "code",
   "execution_count": 82,
   "metadata": {},
   "outputs": [
    {
     "name": "stdout",
     "output_type": "stream",
     "text": [
      "Epoch 1/10\n",
      "1/1 [==============================] - 1s 1s/step - loss: 0.6561 - accuracy: 0.5000 - val_loss: 0.6449 - val_accuracy: 0.5000\n",
      "Epoch 2/10\n",
      "1/1 [==============================] - 0s 103ms/step - loss: 0.6449 - accuracy: 0.5000 - val_loss: 0.6342 - val_accuracy: 1.0000\n",
      "Epoch 3/10\n",
      "1/1 [==============================] - 0s 97ms/step - loss: 0.6342 - accuracy: 1.0000 - val_loss: 0.6237 - val_accuracy: 1.0000\n",
      "Epoch 4/10\n",
      "1/1 [==============================] - 0s 98ms/step - loss: 0.6237 - accuracy: 1.0000 - val_loss: 0.6134 - val_accuracy: 1.0000\n",
      "Epoch 5/10\n",
      "1/1 [==============================] - 0s 262ms/step - loss: 0.6134 - accuracy: 1.0000 - val_loss: 0.6034 - val_accuracy: 1.0000\n",
      "Epoch 6/10\n",
      "1/1 [==============================] - 0s 122ms/step - loss: 0.6034 - accuracy: 1.0000 - val_loss: 0.5938 - val_accuracy: 1.0000\n",
      "Epoch 7/10\n",
      "1/1 [==============================] - 0s 117ms/step - loss: 0.5938 - accuracy: 1.0000 - val_loss: 0.5843 - val_accuracy: 1.0000\n",
      "Epoch 8/10\n",
      "1/1 [==============================] - 0s 180ms/step - loss: 0.5843 - accuracy: 1.0000 - val_loss: 0.5750 - val_accuracy: 1.0000\n",
      "Epoch 9/10\n",
      "1/1 [==============================] - 0s 333ms/step - loss: 0.5750 - accuracy: 1.0000 - val_loss: 0.5660 - val_accuracy: 1.0000\n",
      "Epoch 10/10\n",
      "1/1 [==============================] - 0s 139ms/step - loss: 0.5660 - accuracy: 1.0000 - val_loss: 0.5571 - val_accuracy: 1.0000\n",
      "Confusion Matrix: [[1, 0], [0, 1]]\n",
      "Accuracy:  1.0\n",
      "Misclassfication Rate:  0.0\n",
      "True Positive Rate (Recall):  1.0\n",
      "True Negative Rate (Specificity):  1.0\n",
      "Precision:  1.0\n",
      "F Score:  1.0\n"
     ]
    }
   ],
   "source": [
    "x_train, y_train = get_cnn_data('./corpora/sample.csv')\n",
    "x_test, y_test = get_cnn_data('./corpora/sample.csv')\n",
    "cnnModel = train_cnn_model(x_train, y_train, x_test, y_test, 10)\n",
    "test_model(cnnModel, x_test, y_test)"
   ]
  },
  {
   "cell_type": "markdown",
   "metadata": {},
   "source": [
    "### Train LSTM Model"
   ]
  },
  {
   "cell_type": "code",
   "execution_count": 83,
   "metadata": {},
   "outputs": [
    {
     "name": "stdout",
     "output_type": "stream",
     "text": [
      "Epoch 1/10\n",
      "1/1 [==============================] - 7s 7s/step - loss: 0.6922 - val_loss: 0.6894\n",
      "Epoch 2/10\n",
      "1/1 [==============================] - 0s 215ms/step - loss: 0.6894 - val_loss: 0.6865\n",
      "Epoch 3/10\n",
      "1/1 [==============================] - 0s 232ms/step - loss: 0.6865 - val_loss: 0.6836\n",
      "Epoch 4/10\n",
      "1/1 [==============================] - 0s 426ms/step - loss: 0.6836 - val_loss: 0.6807\n",
      "Epoch 5/10\n",
      "1/1 [==============================] - 0s 233ms/step - loss: 0.6807 - val_loss: 0.6777\n",
      "Epoch 6/10\n",
      "1/1 [==============================] - 0s 221ms/step - loss: 0.6777 - val_loss: 0.6746\n",
      "Epoch 7/10\n",
      "1/1 [==============================] - 0s 272ms/step - loss: 0.6746 - val_loss: 0.6714\n",
      "Epoch 8/10\n",
      "1/1 [==============================] - 0s 247ms/step - loss: 0.6714 - val_loss: 0.6681\n",
      "Epoch 9/10\n",
      "1/1 [==============================] - 0s 237ms/step - loss: 0.6681 - val_loss: 0.6645\n",
      "Epoch 10/10\n",
      "1/1 [==============================] - 0s 230ms/step - loss: 0.6645 - val_loss: 0.6607\n",
      "Confusion Matrix: [[1, 0], [0, 1]]\n",
      "Accuracy:  1.0\n",
      "Misclassfication Rate:  0.0\n",
      "True Positive Rate (Recall):  1.0\n",
      "True Negative Rate (Specificity):  1.0\n",
      "Precision:  1.0\n",
      "F Score:  1.0\n"
     ]
    }
   ],
   "source": [
    "x_train, y_train = get_lstm_data('./corpora/sample.csv')\n",
    "x_test, y_test = get_lstm_data('./corpora/sample.csv')\n",
    "lstmModel = train_lstm_model(x_train, y_train, x_test, y_test, 10)\n",
    "test_model(lstmModel, x_test, y_test)"
   ]
  },
  {
   "cell_type": "code",
   "execution_count": null,
   "metadata": {},
   "outputs": [],
   "source": []
  }
 ],
 "metadata": {
  "kernelspec": {
   "display_name": "Python 3",
   "language": "python",
   "name": "python3"
  },
  "language_info": {
   "codemirror_mode": {
    "name": "ipython",
    "version": 3
   },
   "file_extension": ".py",
   "mimetype": "text/x-python",
   "name": "python",
   "nbconvert_exporter": "python",
   "pygments_lexer": "ipython3",
   "version": "3.6.1"
  }
 },
 "nbformat": 4,
 "nbformat_minor": 4
}
