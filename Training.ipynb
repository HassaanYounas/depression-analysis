{
 "cells": [
  {
   "cell_type": "markdown",
   "metadata": {},
   "source": [
    "## Imports all in one place"
   ]
  },
  {
   "cell_type": "code",
   "execution_count": 2,
   "metadata": {},
   "outputs": [],
   "source": [
    "import csv\n",
    "import nltk\n",
    "import warnings\n",
    "import numpy as np\n",
    "from numpy.random import seed\n",
    "from gensim.models import Word2Vec\n",
    "from keras.models import Sequential\n",
    "from keras.models import model_from_json\n",
    "from keras.layers import Dense, Conv2D, Flatten\n",
    "from keras.layers import Dense, Dropout, Embedding, LSTM, Bidirectional"
   ]
  },
  {
   "cell_type": "markdown",
   "metadata": {},
   "source": [
    "### Ignoring warnings"
   ]
  },
  {
   "cell_type": "code",
   "execution_count": 3,
   "metadata": {},
   "outputs": [],
   "source": [
    "warnings.filterwarnings('ignore')"
   ]
  },
  {
   "cell_type": "markdown",
   "metadata": {},
   "source": [
    "### FUNCTION: Load LSTM Model"
   ]
  },
  {
   "cell_type": "code",
   "execution_count": 4,
   "metadata": {},
   "outputs": [],
   "source": [
    "def get_lstm_model():\n",
    "    json_file = open('./models/lstm/lstm.json', 'r')\n",
    "    loaded_model_json = json_file.read()\n",
    "    json_file.close()\n",
    "    model = model_from_json(loaded_model_json)\n",
    "    model.load_weights('./models/lstm/lstm.h5') \n",
    "    model.compile(optimizer = 'adam', loss = 'binary_crossentropy')\n",
    "    return model"
   ]
  },
  {
   "cell_type": "markdown",
   "metadata": {},
   "source": [
    "### FUNCTION: Load CNN Model"
   ]
  },
  {
   "cell_type": "code",
   "execution_count": 5,
   "metadata": {},
   "outputs": [],
   "source": [
    "def get_cnn_model():\n",
    "    json_file = open('./models/cnn/cnn.json', 'r')\n",
    "    loaded_model_json = json_file.read()\n",
    "    json_file.close()\n",
    "    model = model_from_json(loaded_model_json)\n",
    "    model.load_weights('./models/cnn/cnn.h5') \n",
    "    model.compile(optimizer = 'adam', loss = 'binary_crossentropy')\n",
    "    return model"
   ]
  },
  {
   "cell_type": "markdown",
   "metadata": {},
   "source": [
    "### FUNCTION: Load Word2Vec Model"
   ]
  },
  {
   "cell_type": "code",
   "execution_count": 6,
   "metadata": {},
   "outputs": [],
   "source": [
    "def get_word2vec_model():\n",
    "    return Word2Vec.load('./models/word2vec/word2vec.model')"
   ]
  },
  {
   "cell_type": "markdown",
   "metadata": {},
   "source": [
    "### FUNCTION: Train Word2Vec Model"
   ]
  },
  {
   "cell_type": "code",
   "execution_count": 7,
   "metadata": {},
   "outputs": [],
   "source": [
    "def train_word2vec_model(path):\n",
    "    wordVecDataset = []\n",
    "    training_file = open(path, encoding = 'utf-8', errors = 'ignore')\n",
    "    csv_reader = csv.reader(training_file, delimiter = ',')\n",
    "    for row in csv_reader:\n",
    "        tokens = nltk.word_tokenize(row[1])\n",
    "        wordVecDataset.append(tokens)\n",
    "    model = Word2Vec(wordVecDataset, min_count = 1, size = 50, workers = 3, window = 3, sg = 1)\n",
    "    model.save('./models/word2vec/word2vec.model')\n",
    "    return model"
   ]
  },
  {
   "cell_type": "markdown",
   "metadata": {},
   "source": [
    "### FUNCTION: Train Bi-LSTM Model"
   ]
  },
  {
   "cell_type": "code",
   "execution_count": 8,
   "metadata": {},
   "outputs": [],
   "source": [
    "def train_lstm_model(x_train, y_train, x_test, y_test, epochs):\n",
    "    model = Sequential()\n",
    "    model.add(Bidirectional(LSTM(128, input_shape = (128, 1))))\n",
    "    model.add(Dense(2, activation = 'softmax'))\n",
    "    model.compile(optimizer = 'adam', loss = 'binary_crossentropy')\n",
    "    model.fit(x_train, y_train, validation_data = (x_test, y_test), batch_size = 200, epochs = epochs, shuffle = True)\n",
    "    model_json = model.to_json()\n",
    "    with open('./models/lstm/lstm.json', 'w') as json_file:\n",
    "        json_file.write(model_json)\n",
    "    model.save_weights('./models/lstm/lstm.h5')\n",
    "    return model"
   ]
  },
  {
   "cell_type": "markdown",
   "metadata": {},
   "source": [
    "### FUNCTION: Dataset for Bi-LSTM Model"
   ]
  },
  {
   "cell_type": "code",
   "execution_count": 9,
   "metadata": {},
   "outputs": [],
   "source": [
    "def get_lstm_data(path):\n",
    "    wordvecModel = get_word2vec_model()\n",
    "    dataset = []\n",
    "    X, Y = [], []\n",
    "    file = open(path, encoding = 'utf-8', errors = 'ignore')\n",
    "    csv_reader = csv.reader(file, delimiter = ',')\n",
    "    for row in csv_reader:\n",
    "        tokens = nltk.word_tokenize(row[1])\n",
    "        dataset.append([tokens, row[2]])\n",
    "    for tweet in dataset:\n",
    "        tweet_tokens = tweet[0]\n",
    "        embeddings = []\n",
    "        for token in tweet_tokens:\n",
    "            embeddings.append([round(abs(sum(wordvecModel[token])) * 10, 4)])\n",
    "        padding = [[0]] * (128 - len(embeddings))\n",
    "        embeddings = embeddings.copy() + padding\n",
    "        X.append(embeddings)\n",
    "        label = int(tweet[1])\n",
    "        if label == 0:\n",
    "            Y.append([0, 1])\n",
    "        else:\n",
    "            Y.append([1, 0])\n",
    "    X = np.array(X)\n",
    "    Y = np.array(Y)\n",
    "    return X, Y"
   ]
  },
  {
   "cell_type": "markdown",
   "metadata": {},
   "source": [
    "### FUNCTION: Train CNN Model"
   ]
  },
  {
   "cell_type": "code",
   "execution_count": 10,
   "metadata": {},
   "outputs": [],
   "source": [
    "def train_cnn_model(x_train, y_train, x_test, y_test, epochs):\n",
    "    cnnModel = Sequential()\n",
    "    cnnModel.add(Conv2D(128, kernel_size = 1, activation = 'relu', input_shape = (1,1,128)))\n",
    "    cnnModel.add(Flatten())\n",
    "    cnnModel.add(Dense(2, activation = 'softmax'))\n",
    "    cnnModel.compile(optimizer = 'adam', loss = 'binary_crossentropy', metrics = ['accuracy'])\n",
    "    cnnModel.fit(x_train, y_train, validation_data = (x_test, y_test), batch_size = 200, epochs = epochs, shuffle = True)\n",
    "    model_json = cnnModel.to_json()\n",
    "    with open('./models/cnn/cnn.json', 'w') as json_file:\n",
    "        json_file.write(model_json)\n",
    "    cnnModel.save_weights('./models/cnn/cnn.h5')\n",
    "    return cnnModel"
   ]
  },
  {
   "cell_type": "markdown",
   "metadata": {},
   "source": [
    "### FUNCTION: Dataset for CNN Model"
   ]
  },
  {
   "cell_type": "code",
   "execution_count": 11,
   "metadata": {},
   "outputs": [],
   "source": [
    "def get_cnn_data(path):\n",
    "    wordvecModel = get_word2vec_model()\n",
    "    dataset = []\n",
    "    X, Y = [], []\n",
    "    file = open(path, encoding = 'utf-8', errors = 'ignore')\n",
    "    csv_reader = csv.reader(file, delimiter = ',')\n",
    "    for row in csv_reader:\n",
    "        tokens = nltk.word_tokenize(row[1])\n",
    "        dataset.append([tokens, row[2]])\n",
    "    for tweet in dataset:\n",
    "        tweet_tokens = tweet[0]\n",
    "        embeddings = []\n",
    "        for token in tweet_tokens:\n",
    "            embeddings.append(round(abs(sum(wordvecModel[token])) * 10, 4))\n",
    "        padding = [0] * (128 - len(embeddings))\n",
    "        embeddings = embeddings.copy() + padding\n",
    "        X.append([[embeddings]])\n",
    "        label = int(tweet[1])\n",
    "        if label == 0:\n",
    "            Y.append([0, 1])\n",
    "        else:\n",
    "            Y.append([1, 0])\n",
    "    X = np.array(X)\n",
    "    Y = np.array(Y)\n",
    "    return X, Y"
   ]
  },
  {
   "cell_type": "markdown",
   "metadata": {},
   "source": [
    "### FUNCTION: Test model"
   ]
  },
  {
   "cell_type": "code",
   "execution_count": 108,
   "metadata": {},
   "outputs": [],
   "source": [
    "def test_model(model, x_test, y_test):\n",
    "    pred_output = model.predict(x_test)\n",
    "    matrix = [[0, 0], [0, 0]]\n",
    "    actual_yes, actual_no, predicted_yes = 0, 0, 0\n",
    "    for i in range(len(y_test)):\n",
    "        if y_test[i][0] == 1:\n",
    "            actual_yes += 1\n",
    "        elif y_test[i][0] == 0:\n",
    "            actual_no += 1\n",
    "        if pred_output[i][0] > 0.5:\n",
    "            predicted_yes += 1\n",
    "        x, y = 0, 0\n",
    "        if y_test[i][0] > 0.5:\n",
    "            x = 1\n",
    "        else:\n",
    "            x = 0\n",
    "        if pred_output[i][0] > 0.5:\n",
    "            y = 1\n",
    "        else:\n",
    "            y = 0\n",
    "        matrix[x][y] += 1\n",
    "    TP = matrix[1][1]\n",
    "    TN = matrix[0][0]\n",
    "    FP = matrix[0][1]\n",
    "    FN = matrix[1][0]\n",
    "    total = len(y_test)\n",
    "    accuracy = (TP + TN) / total\n",
    "    misclassfication = (FP + FN) / total\n",
    "    recall = TP / actual_yes\n",
    "    specificity = TN / actual_no\n",
    "    precision = TP / predicted_yes\n",
    "    f_score = 2 * ((recall * precision) / (recall + precision))\n",
    "    print(\"Confusion Matrix:\", matrix)\n",
    "    print(\"Accuracy: \", accuracy)\n",
    "    print(\"Misclassfication Rate: \", misclassfication)\n",
    "    print(\"True Positive Rate (Recall): \", recall)\n",
    "    print(\"True Negative Rate (Specificity): \", specificity)\n",
    "    print(\"Precision: \", precision)\n",
    "    print(\"F Score: \", f_score)"
   ]
  },
  {
   "cell_type": "markdown",
   "metadata": {},
   "source": [
    "### Train Word2Vec Model"
   ]
  },
  {
   "cell_type": "code",
   "execution_count": 12,
   "metadata": {},
   "outputs": [
    {
     "output_type": "execute_result",
     "data": {
      "text/plain": [
       "<gensim.models.word2vec.Word2Vec at 0x20bbacebfd0>"
      ]
     },
     "metadata": {},
     "execution_count": 12
    }
   ],
   "source": [
    "train_word2vec_model('./corpora/complete.csv')"
   ]
  },
  {
   "cell_type": "markdown",
   "metadata": {},
   "source": [
    "### Training CNN Model"
   ]
  },
  {
   "cell_type": "code",
   "execution_count": 110,
   "metadata": {},
   "outputs": [
    {
     "name": "stdout",
     "output_type": "stream",
     "text": [
      "Epoch 1/10\n",
      "1/1 [==============================] - 1s 1s/step - loss: 0.7056 - accuracy: 0.0000e+00 - val_loss: 0.6956 - val_accuracy: 0.5000\n",
      "Epoch 2/10\n",
      "1/1 [==============================] - 0s 121ms/step - loss: 0.6956 - accuracy: 0.5000 - val_loss: 0.6857 - val_accuracy: 1.0000\n",
      "Epoch 3/10\n",
      "1/1 [==============================] - 0s 105ms/step - loss: 0.6857 - accuracy: 1.0000 - val_loss: 0.6761 - val_accuracy: 1.0000\n",
      "Epoch 4/10\n",
      "1/1 [==============================] - 0s 120ms/step - loss: 0.6761 - accuracy: 1.0000 - val_loss: 0.6666 - val_accuracy: 1.0000\n",
      "Epoch 5/10\n",
      "1/1 [==============================] - 0s 101ms/step - loss: 0.6666 - accuracy: 1.0000 - val_loss: 0.6574 - val_accuracy: 1.0000\n",
      "Epoch 6/10\n",
      "1/1 [==============================] - 0s 135ms/step - loss: 0.6574 - accuracy: 1.0000 - val_loss: 0.6485 - val_accuracy: 1.0000\n",
      "Epoch 7/10\n",
      "1/1 [==============================] - 0s 114ms/step - loss: 0.6485 - accuracy: 1.0000 - val_loss: 0.6399 - val_accuracy: 1.0000\n",
      "Epoch 8/10\n",
      "1/1 [==============================] - 0s 91ms/step - loss: 0.6399 - accuracy: 1.0000 - val_loss: 0.6314 - val_accuracy: 1.0000\n",
      "Epoch 9/10\n",
      "1/1 [==============================] - 0s 95ms/step - loss: 0.6314 - accuracy: 1.0000 - val_loss: 0.6233 - val_accuracy: 1.0000\n",
      "Epoch 10/10\n",
      "1/1 [==============================] - 0s 126ms/step - loss: 0.6233 - accuracy: 1.0000 - val_loss: 0.6152 - val_accuracy: 1.0000\n",
      "WARNING:tensorflow:7 out of the last 8 calls to <function Model.make_predict_function.<locals>.predict_function at 0x000001FCDFFC2048> triggered tf.function retracing. Tracing is expensive and the excessive number of tracings could be due to (1) creating @tf.function repeatedly in a loop, (2) passing tensors with different shapes, (3) passing Python objects instead of tensors. For (1), please define your @tf.function outside of the loop. For (2), @tf.function has experimental_relax_shapes=True option that relaxes argument shapes that can avoid unnecessary retracing. For (3), please refer to https://www.tensorflow.org/guide/function#controlling_retracing and https://www.tensorflow.org/api_docs/python/tf/function for  more details.\n",
      "Confusion Matrix: [[1, 0], [0, 1]]\n",
      "Accuracy:  1.0\n",
      "Misclassfication Rate:  0.0\n",
      "True Positive Rate (Recall):  1.0\n",
      "True Negative Rate (Specificity):  1.0\n",
      "Precision:  1.0\n",
      "F Score:  1.0\n"
     ]
    }
   ],
   "source": [
    "# x_train, y_train = get_cnn_data('./corpora/training.csv')\n",
    "# x_test, y_test = get_cnn_data('./corpora/testing.csv')\n",
    "# cnnModel = train_cnn_model(x_train, y_train, x_test, y_test, 150)\n",
    "# test_model(cnnModel, x_test, y_test)"
   ]
  },
  {
   "cell_type": "markdown",
   "metadata": {},
   "source": [
    "### Train LSTM Model"
   ]
  },
  {
   "cell_type": "code",
   "execution_count": 17,
   "metadata": {},
   "outputs": [
    {
     "output_type": "stream",
     "name": "stdout",
     "text": [
      "Epoch 1/50\n",
      "132/132 [==============================] - 163s 1s/step - loss: 0.6326 - val_loss: 0.8074\n",
      "Epoch 2/50\n",
      "132/132 [==============================] - 156s 1s/step - loss: 0.6020 - val_loss: 0.8180\n",
      "Epoch 3/50\n",
      "132/132 [==============================] - 155s 1s/step - loss: 0.6003 - val_loss: 0.8052\n",
      "Epoch 4/50\n",
      "132/132 [==============================] - 155s 1s/step - loss: 0.5967 - val_loss: 0.8025\n",
      "Epoch 5/50\n",
      "132/132 [==============================] - 155s 1s/step - loss: 0.5979 - val_loss: 0.7959\n",
      "Epoch 6/50\n",
      "132/132 [==============================] - 155s 1s/step - loss: 0.5996 - val_loss: 0.7929\n",
      "Epoch 7/50\n",
      "132/132 [==============================] - 155s 1s/step - loss: 0.5981 - val_loss: 0.8043\n",
      "Epoch 8/50\n",
      "132/132 [==============================] - 155s 1s/step - loss: 0.5969 - val_loss: 0.7690\n",
      "Epoch 9/50\n",
      "132/132 [==============================] - 145s 1s/step - loss: 0.5893 - val_loss: 0.7607\n",
      "Epoch 10/50\n",
      "132/132 [==============================] - 145s 1s/step - loss: 0.5890 - val_loss: 0.7994\n",
      "Epoch 11/50\n",
      "132/132 [==============================] - 146s 1s/step - loss: 0.5937 - val_loss: 0.7978\n",
      "Epoch 12/50\n",
      "132/132 [==============================] - 145s 1s/step - loss: 0.5905 - val_loss: 0.7740\n",
      "Epoch 13/50\n",
      "132/132 [==============================] - 145s 1s/step - loss: 0.5894 - val_loss: 0.7712\n",
      "Epoch 14/50\n",
      "132/132 [==============================] - 146s 1s/step - loss: 0.5888 - val_loss: 0.8096\n",
      "Epoch 15/50\n",
      "132/132 [==============================] - 146s 1s/step - loss: 0.5910 - val_loss: 0.7962\n",
      "Epoch 16/50\n",
      "132/132 [==============================] - 144s 1s/step - loss: 0.5908 - val_loss: 0.7640\n",
      "Epoch 17/50\n",
      "132/132 [==============================] - 146s 1s/step - loss: 0.5859 - val_loss: 0.7800\n",
      "Epoch 18/50\n",
      "132/132 [==============================] - 145s 1s/step - loss: 0.5843 - val_loss: 0.7670\n",
      "Epoch 19/50\n",
      "132/132 [==============================] - 146s 1s/step - loss: 0.5811 - val_loss: 0.7632\n",
      "Epoch 20/50\n",
      "132/132 [==============================] - 155s 1s/step - loss: 0.5790 - val_loss: 0.7508\n",
      "Epoch 21/50\n",
      "132/132 [==============================] - 156s 1s/step - loss: 0.5810 - val_loss: 0.7817\n",
      "Epoch 22/50\n",
      "132/132 [==============================] - 156s 1s/step - loss: 0.5749 - val_loss: 0.7419\n",
      "Epoch 23/50\n",
      "132/132 [==============================] - 155s 1s/step - loss: 0.5758 - val_loss: 0.7819\n",
      "Epoch 24/50\n",
      "132/132 [==============================] - 156s 1s/step - loss: 0.5715 - val_loss: 0.8008\n",
      "Epoch 25/50\n",
      "132/132 [==============================] - 156s 1s/step - loss: 0.5856 - val_loss: 0.7530\n",
      "Epoch 26/50\n",
      "132/132 [==============================] - 155s 1s/step - loss: 0.5778 - val_loss: 0.8293\n",
      "Epoch 27/50\n",
      "132/132 [==============================] - 155s 1s/step - loss: 0.5745 - val_loss: 0.7907\n",
      "Epoch 28/50\n",
      "132/132 [==============================] - 156s 1s/step - loss: 0.5779 - val_loss: 0.7343\n",
      "Epoch 29/50\n",
      "132/132 [==============================] - 156s 1s/step - loss: 0.5705 - val_loss: 0.7492\n",
      "Epoch 30/50\n",
      "132/132 [==============================] - 156s 1s/step - loss: 0.5655 - val_loss: 0.7212\n",
      "Epoch 31/50\n",
      "132/132 [==============================] - 156s 1s/step - loss: 0.5584 - val_loss: 0.7409\n",
      "Epoch 32/50\n",
      "132/132 [==============================] - 156s 1s/step - loss: 0.5573 - val_loss: 0.7301\n",
      "Epoch 33/50\n",
      "132/132 [==============================] - 156s 1s/step - loss: 0.5521 - val_loss: 0.7238\n",
      "Epoch 34/50\n",
      "132/132 [==============================] - 156s 1s/step - loss: 0.5440 - val_loss: 0.7060\n",
      "Epoch 35/50\n",
      "132/132 [==============================] - 155s 1s/step - loss: 0.5392 - val_loss: 0.6677\n",
      "Epoch 36/50\n",
      "132/132 [==============================] - 155s 1s/step - loss: 0.5377 - val_loss: 0.7071\n",
      "Epoch 37/50\n",
      "132/132 [==============================] - 156s 1s/step - loss: 0.5291 - val_loss: 0.6971\n",
      "Epoch 38/50\n",
      "132/132 [==============================] - 156s 1s/step - loss: 0.5194 - val_loss: 0.6861\n",
      "Epoch 39/50\n",
      "132/132 [==============================] - 155s 1s/step - loss: 0.5146 - val_loss: 0.6306\n",
      "Epoch 40/50\n",
      "132/132 [==============================] - 156s 1s/step - loss: 0.5095 - val_loss: 0.6298\n",
      "Epoch 41/50\n",
      "132/132 [==============================] - 156s 1s/step - loss: 0.5059 - val_loss: 0.6434\n",
      "Epoch 42/50\n",
      "132/132 [==============================] - 156s 1s/step - loss: 0.4924 - val_loss: 0.6230\n",
      "Epoch 43/50\n",
      "132/132 [==============================] - 155s 1s/step - loss: 0.4773 - val_loss: 0.6194\n",
      "Epoch 44/50\n",
      "132/132 [==============================] - 156s 1s/step - loss: 0.4700 - val_loss: 0.6092\n",
      "Epoch 45/50\n",
      "132/132 [==============================] - 156s 1s/step - loss: 0.4634 - val_loss: 0.5521\n",
      "Epoch 46/50\n",
      "132/132 [==============================] - 156s 1s/step - loss: 0.4552 - val_loss: 0.5345\n",
      "Epoch 47/50\n",
      "132/132 [==============================] - 155s 1s/step - loss: 0.4403 - val_loss: 0.5363\n",
      "Epoch 48/50\n",
      "132/132 [==============================] - 155s 1s/step - loss: 0.4265 - val_loss: 0.5266\n",
      "Epoch 49/50\n",
      "132/132 [==============================] - 155s 1s/step - loss: 0.4151 - val_loss: 0.4904\n",
      "Epoch 50/50\n",
      "132/132 [==============================] - 155s 1s/step - loss: 0.4071 - val_loss: 0.5224\n",
      "Confusion Matrix: [[2414, 154], [1379, 1885]]\n",
      "Accuracy:  0.7371399176954733\n",
      "Misclassfication Rate:  0.26286008230452673\n",
      "True Positive Rate (Recall):  0.5775122549019608\n",
      "True Negative Rate (Specificity):  0.9400311526479751\n",
      "Precision:  0.9244727807748897\n",
      "F Score:  0.7109183481048463\n"
     ]
    }
   ],
   "source": [
    "x_train, y_train = get_lstm_data('./corpora/training.csv')\n",
    "x_test, y_test = get_lstm_data('./corpora/testing.csv')\n",
    "lstmModel = train_lstm_model(x_train, y_train, x_test, y_test, 50)\n",
    "test_model(lstmModel, x_test, y_test)"
   ]
  },
  {
   "cell_type": "code",
   "execution_count": null,
   "metadata": {},
   "outputs": [],
   "source": []
  }
 ],
 "metadata": {
  "kernelspec": {
   "name": "python3",
   "display_name": "Python 3.6.1 64-bit"
  },
  "language_info": {
   "codemirror_mode": {
    "name": "ipython",
    "version": 3
   },
   "file_extension": ".py",
   "mimetype": "text/x-python",
   "name": "python",
   "nbconvert_exporter": "python",
   "pygments_lexer": "ipython3",
   "version": "3.6.1"
  },
  "interpreter": {
   "hash": "eb56556adf70e0c194f418c78c7b7b85259d18bcc5c69ef93e1f8dc0bfd0c06c"
  }
 },
 "nbformat": 4,
 "nbformat_minor": 4
}